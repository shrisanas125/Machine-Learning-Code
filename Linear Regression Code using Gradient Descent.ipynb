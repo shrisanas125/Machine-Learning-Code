{
 "cells": [
  {
   "cell_type": "code",
   "execution_count": null,
   "metadata": {},
   "outputs": [],
   "source": [
    "def gradient_desecnt_function(new_intercept,new_slope,x,y,tolerance):\n",
    "    Intercept=new_intercept\n",
    "    Slope=new_slope\n",
    "    initial_intercept=new_intercept\n",
    "    initial_slope= Slope \n",
    "    prediction=[]\n",
    "    \n",
    "    for i in range(len(x)):\n",
    "        p=Intercept + Slope*x[i]\n",
    "        prediction.append(p)\n",
    "    \n",
    "    \n",
    "    error=error_fun(prediction,y)\n",
    "    \n",
    "    sum1,adjustment,new_intercept=update_Intercept(prediction,y) \n",
    "    \n",
    "\n",
    "    new_slope,sum2 = update_Slope(x,error)\n",
    "   \n",
    "    magnitude = math.sqrt(pow( sum1,2) + pow(sum2,2))\n",
    "    \n",
    "    ans=check_convergence(magnitude,tolerance)\n",
    "    \n",
    "    return ans,new_intercept,new_slope"
   ]
  },
  {
   "cell_type": "code",
   "execution_count": null,
   "metadata": {},
   "outputs": [],
   "source": [
    "def update_Intercept(prediction,y):\n",
    "    sum1=sum(error_fun(prediction,y))\n",
    "    adjustment= step_size*sum1\n",
    "    new_intercept=initial_intercept-adjustment\n",
    "    \n",
    "    return sum1,adjustment,new_intercept\n"
   ]
  },
  {
   "cell_type": "code",
   "execution_count": null,
   "metadata": {},
   "outputs": [],
   "source": [
    "def sum_slope_fun(a,b):\n",
    "    s1=[]\n",
    "    for i in range(len(b)):\n",
    "    \n",
    "        er = a[i] *b[i]\n",
    "        s1.append(er)\n",
    "    return s1\n"
   ]
  },
  {
   "cell_type": "code",
   "execution_count": null,
   "metadata": {},
   "outputs": [],
   "source": [
    "def update_Slope(x,error):\n",
    "    sum2=sum(sum_slope_fun(x,error))\n",
    "  \n",
    "    adjustment = step_size * sum2 \n",
    "  \n",
    "    new_slope = initial_slope - adjustment\n",
    "   \n",
    "    return new_slope,sum2"
   ]
  },
  {
   "cell_type": "code",
   "execution_count": null,
   "metadata": {},
   "outputs": [],
   "source": [
    "def check_convergence(magnitude,tolerance):\n",
    "    if (magnitude < tolerance):\n",
    "        return True\n",
    "    else :\n",
    "        return False"
   ]
  },
  {
   "cell_type": "code",
   "execution_count": null,
   "metadata": {},
   "outputs": [],
   "source": [
    "def error_fun(prediction,y):\n",
    "    error=[]\n",
    "    for i in range(len(y)):\n",
    "    \n",
    "        er = prediction[i] -y[i]\n",
    "        error.append(er)\n",
    "    return error"
   ]
  },
  {
   "cell_type": "code",
   "execution_count": null,
   "metadata": {},
   "outputs": [],
   "source": [
    "import math\n",
    "\n",
    "x=[0,1,2,3,4]\n",
    "y=[1,3,7,13,21]\n",
    "prediction=[]\n",
    "initial_intercept = 0\n",
    "initial_slope = 0\n",
    "step_size = 0.05\n",
    "tolerance = 0.01\n",
    "result = False\n",
    "i=0\n",
    "result=False\n",
    "while (result != True):\n",
    "    result,new_intercept,new_slope=gradient_desecnt_function(initial_intercept,initial_slope,x,y,tolerance)\n",
    "    print(\"iteration\",i)\n",
    "    initial_slope=new_slope\n",
    "    initial_intercept=new_intercept\n",
    "    \n",
    "    i+=1\n",
    "print(\"Intercept = \",new_intercept)\n",
    "print(\"Slope = \",new_slope)\n"
   ]
  },
  {
   "cell_type": "code",
   "execution_count": null,
   "metadata": {},
   "outputs": [],
   "source": [
    "# Predict the output using following line of equation\n",
    "a=int(input(\"Enter Value for X = \"))\n",
    "y=new_intercept+(new_slope*a)\n",
    "print(\"Output for x = {} is y ={} \".format(a,y))"
   ]
  },
  {
   "cell_type": "code",
   "execution_count": null,
   "metadata": {},
   "outputs": [],
   "source": []
  },
  {
   "cell_type": "code",
   "execution_count": null,
   "metadata": {},
   "outputs": [],
   "source": []
  }
 ],
 "metadata": {
  "kernelspec": {
   "display_name": "Python 3",
   "language": "python",
   "name": "python3"
  },
  "language_info": {
   "codemirror_mode": {
    "name": "ipython",
    "version": 3
   },
   "file_extension": ".py",
   "mimetype": "text/x-python",
   "name": "python",
   "nbconvert_exporter": "python",
   "pygments_lexer": "ipython3",
   "version": "3.7.6"
  }
 },
 "nbformat": 4,
 "nbformat_minor": 4
}
